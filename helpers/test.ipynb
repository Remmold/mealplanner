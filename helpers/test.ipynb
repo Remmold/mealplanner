{
 "cells": [
  {
   "cell_type": "markdown",
   "id": "ee2fbb41",
   "metadata": {},
   "source": [
    "# Used to test various helper methods before deployment\n",
    "feel free to delete and or add cells at will. not a part of the official build"
   ]
  },
  {
   "cell_type": "code",
   "execution_count": 1,
   "id": "59f5d7d4",
   "metadata": {},
   "outputs": [
    {
     "ename": "NameError",
     "evalue": "name '__file__' is not defined",
     "output_type": "error",
     "traceback": [
      "\u001b[31m---------------------------------------------------------------------------\u001b[39m",
      "\u001b[31mNameError\u001b[39m                                 Traceback (most recent call last)",
      "\u001b[36mCell\u001b[39m\u001b[36m \u001b[39m\u001b[32mIn[1]\u001b[39m\u001b[32m, line 5\u001b[39m\n\u001b[32m      2\u001b[39m \u001b[38;5;28;01mimport\u001b[39;00m\u001b[38;5;250m \u001b[39m\u001b[34;01mduckdb\u001b[39;00m\n\u001b[32m      3\u001b[39m \u001b[38;5;28;01mimport\u001b[39;00m\u001b[38;5;250m \u001b[39m\u001b[34;01mos\u001b[39;00m\n\u001b[32m----> \u001b[39m\u001b[32m5\u001b[39m BASE_DIR = os.path.dirname(os.path.dirname(\u001b[34;43m__file__\u001b[39;49m))  \u001b[38;5;66;03m# project root\u001b[39;00m\n\u001b[32m      6\u001b[39m DB_PATH = os.path.join(BASE_DIR, \u001b[33m\"\u001b[39m\u001b[33mgroceries.duckdb\u001b[39m\u001b[33m\"\u001b[39m)\n\u001b[32m      8\u001b[39m \u001b[38;5;28;01mdef\u001b[39;00m\u001b[38;5;250m \u001b[39m\u001b[34mload_grocery_nutrients\u001b[39m(grocery_name: \u001b[38;5;28mstr\u001b[39m) -> pd.DataFrame:\n",
      "\u001b[31mNameError\u001b[39m: name '__file__' is not defined"
     ]
    }
   ],
   "source": [
    "import pandas as pd\n",
    "import duckdb\n",
    "import os\n",
    "\n",
    "BASE_DIR = os.path.dirname(os.path.dirname(__file__))  # project root\n",
    "DB_PATH = os.path.join(BASE_DIR, \"groceries.duckdb\")\n",
    "\n",
    "def load_grocery_nutrients(grocery_name: str) -> pd.DataFrame:\n",
    "    query = \"\"\"\n",
    "    SELECT \n",
    "        dn.name AS nutrient,\n",
    "        fgn.nutrient_value,\n",
    "        fgn.nutrient_measurement_unit\n",
    "    FROM refined.fct_grocery_nutrient fgn\n",
    "    JOIN refined.dim_grocery dg ON fgn.grocery_id = dg.id\n",
    "    JOIN refined.dim_nutrient dn ON fgn.nutrient_id = dn.id\n",
    "    WHERE dg.name = ?\n",
    "    -- AND fgn.nutrient_value != 0\n",
    "    -- AND nutrient IN ('Energi (kJ)', 'Energi (kcal)', 'Fett, totalt', 'Kolhydrater, tillgängliga', 'Sockerarter, totalt', 'Fibrer', 'Protein', 'Salt, NaCl')\n",
    "    ORDER BY dn.name\n",
    "    \"\"\"\n",
    "    return run_query(query, (grocery_name,))\n",
    "def run_query(query: str, params: tuple = None) -> pd.DataFrame:\n",
    "    \"\"\"Run a SQL query against DuckDB and return a DataFrame.\"\"\"\n",
    "    with duckdb.connect(DB_PATH, read_only=True) as conn:\n",
    "        if params:\n",
    "            return conn.execute(query, params).fetchdf()\n",
    "        else:\n",
    "            return conn.execute(query).fetchdf()"
   ]
  }
 ],
 "metadata": {
  "kernelspec": {
   "display_name": "mealplanner",
   "language": "python",
   "name": "python3"
  },
  "language_info": {
   "codemirror_mode": {
    "name": "ipython",
    "version": 3
   },
   "file_extension": ".py",
   "mimetype": "text/x-python",
   "name": "python",
   "nbconvert_exporter": "python",
   "pygments_lexer": "ipython3",
   "version": "3.11.5"
  }
 },
 "nbformat": 4,
 "nbformat_minor": 5
}
